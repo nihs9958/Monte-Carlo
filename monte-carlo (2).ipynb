{
    "metadata": {
        "kernelspec": {
            "name": "python3",
            "display_name": "Python 3",
            "language": "python"
        }
    },
    "nbformat": 4,
    "nbformat_minor": 4,
    "cells": [
        {
            "attachments": {},
            "cell_type": "markdown",
            "metadata": {},
            "source": [
                "# Monte Carlo Integration and Implementation on VegasFlow\n",
                "## Introduction:\n",
                "### In this project, we will have some brief tutorial to Monte Carlo Integration which is a broad class of computational algorithms that rely on repeated random sampling to obtain numerical results. \n",
                "### VegasFlow is developed with a focus on speed and efficiency, enabling researchers to perform very expensive calculation as quick and easy as possible. We will implement Vegasflow with MC integration setup at the end. With the computation being timed, we will able to see how efficient this package is. \n",
                "\n",
                ""
            ]
        },
        {
            "cell_type": "code",
            "execution_count": 4,
            "metadata": {},
            "outputs": [],
            "source": [
                "# Import cell\n",
                "%matplotlib inline\n",
                "\n",
                "import numpy as np\n",
                "from scipy.special import gamma\n",
                "import matplotlib.pyplot as plt"
            ]
        },
        {
            "attachments": {},
            "cell_type": "markdown",
            "metadata": {},
            "source": [
                "## Spheres in higher dimensions\n",
                "\n",
                "Monte Carlo integration really shines for integrals with a high number of dimensions.  Let's investigate with a simple calculation: finding the volume of a unit sphere (radius $R=1$) in $d$ dimensions.  This will be a good test case because we know the answer exactly:\n",
                "\n",
                "$$\n",
                "V_d(1) = \\frac{\\pi^{d/2}}{\\Gamma(d/2+1)}\n",
                "$$\n",
                "\n",
                "where $\\Gamma$ is the Euler gamma function (available as the `gamma` function from `scipy.special` - I've imported it above.)  For even $d=2k$, the formula simplifies to\n",
                "\n",
                "$$\n",
                "V_{2k}(1) = \\frac{\\pi^k}{k!}\n",
                "$$\n",
                "\n",
                "The $d=2$ sphere is just the circle, and we recognize $V_2 = \\pi$.  The next (probably unfamiliar) example is $d=4$, for which we get $V_4 = \\pi^2 / 2$.\n",
                "\n",
                "\n",
                "### Part A\n",
                "\n",
                "Now let's set the problem up as an integral.  In $d=2$, the equation for a circle is $x^2 + y^2 = 1$.  If we restrict to the first quadrant $x\u003e0, y\u003e0$, we can rewrite this as $y = \\sqrt{1-x^2}$ with no ambiguity, and then we have\n",
                "\n",
                "$$\n",
                "V_2(1) = 4 \\int_0^1 dx\\ \\sqrt{1-x^2} \\approx 4V \\langle \\sqrt{1 - x^2} \\rangle = 4 \\langle \\sqrt{1-x^2} \\rangle = \\frac{4}{N} \\sum_{i=1}^N \\sqrt{1-x_i^2}\n",
                "$$\n",
                "\n",
                "where we draw $N$ random points $x_i$, and the 4 is to compensate for restricting to the first quadrant.  Here $V$ is the volume of the sampling region, which is just 1 (the length of the $x$-interval.)\n",
                "\n",
                ""
            ]
        },
        {
            "cell_type": "code",
            "execution_count": 5,
            "metadata": {},
            "outputs": [
                {
                    "name": "stdout",
                    "output_type": "stream",
                    "text": "3.142451281987086\n"
                }
            ],
            "source": [
                "N=1000  # Number of samples\n",
                "\n",
                "# Draw Ns random numbers in [0,1] with np.random.rand()\n",
                "\n",
                "# Find E1, the mean of sqrt(1-x^2) over the random numbers x\n",
                "\n",
                "# Integral V2 is| equal to 4 times E1\n",
                "\n",
                "x = np.random.rand(N)\n",
                "E1 = np.mean(np.sqrt(1-x**2))\n",
                "V2 = 4*E1\n",
                "\n",
                "print(V2) \n",
                "\n",
                ""
            ]
        },
        {
            "attachments": {},
            "cell_type": "markdown",
            "metadata": {},
            "source": [
                "This should give us something reasonably close to the expected answer of $\\pi$, but probably slightly off due to random fluctuations. \n",
                "\n",
                ""
            ]
        },
        {
            "attachments": {},
            "cell_type": "markdown",
            "metadata": {},
            "source": [
                "### Part B\n",
                "\n",
                "Now we're ready to deal with the general case.  For any number of dimensions $d$, we can write the volume of a unit sphere as the integral\n",
                "\n",
                "\n",
                "![alt text](formula1.png)\n",
                "\n",
                "\n",
                "where the $2^d$ comes from picking the higher-dimensional equivalent of the first quadrant.  The limits of integration get a bit tricky in higher dimensions, unfortunately!  Although it's not too bad to deal with, let's start with the conceptually simpler algorithm instead.  Instead of eliminating $x_d$ and getting the square root, we can simply write\n",
                "\n",
                "$$\n",
                "V_d(1) = \\int dx_1 ... dx_d\\ \\Theta(1 - \\sum_{i=1}^{d} x_i^2)\n",
                "$$\n",
                "where $\\Theta$ is the Heaviside step function.  This leads us back to the \"hit-or-miss\" Monte Carlo algorithm, since the step function is just 1 for any point inside the unit sphere and 0 outside.\n",
                "\n",
                "We would compute the volume of the `d`-sphere using `N` samples and the hit-or-miss algorithm:\n",
                "\n",
                "1. Draw points $(x_1, x_2, ..., x_d)$ randomly over the hypercube ($-1 \\leq x_i \\leq 1$).\n",
                "2. Count the number of points $N_{\\rm hit}$ inside the unit sphere, $\\sum_{i=1}^d x_i^2 \\leq 1$.\n",
                "3. Return $V_d = V (N_{\\rm hit} / N)$, where $V = 2^d$ is the volume of the hypercube we're sampling from.\n",
                ""
            ]
        },
        {
            "cell_type": "code",
            "execution_count": 6,
            "metadata": {},
            "outputs": [
                {
                    "data": {
                        "text/plain": "4.704"
                    },
                    "execution_count": 6,
                    "metadata": {},
                    "output_type": "execute_result"
                }
            ],
            "source": [
                "def V_sphere_MC(d, N):\n",
                "    \n",
                "    # Draw an (N x d) array containing N random vectors of length d\n",
                "    # The random numbers should be between [-1,1], so rescale them!\n",
                "    \n",
                "    # Square the random array, then sum over the axis of length d, \n",
                "    # to produce an array of squared vector lengths\n",
                "    \n",
                "    # Use the squared lengths to create a boolean array which is True\n",
                "    # for any points inside the sphere\n",
                "    \n",
                "    # Use np.count_nonzero on the boolean array,\n",
                "    # to count N_hit, how many points are in the sphere\n",
                "    \n",
                "    # Vd = (2**d) * N_hit / N\n",
                "    \n",
                "    x = 2 * np.random.rand(N, d) - 1\n",
                "    \n",
                "    in_sphere = np.sum(x**2, axis=1) \u003c= 1\n",
                "    N_hit = np.count_nonzero(in_sphere)\n",
                "    \n",
                "    Vd = 2**d * N_hit / N\n",
                "   \n",
                "    \n",
                "    \n",
                "    return Vd\n",
                "    \n",
                "\n",
                "V_sphere_MC(4, 1000)"
            ]
        },
        {
            "cell_type": "code",
            "execution_count": 7,
            "metadata": {},
            "outputs": [
                {
                    "name": "stdout",
                    "output_type": "stream",
                    "text": "3.142\n4.244\n"
                }
            ],
            "source": [
                "# Evaluate in d=2: should be close to pi = 3.1415...\n",
                "print(V_sphere_MC(2, 10000))\n",
                "\n",
                "# Evaluate in d=3: should be close to (4/3) pi = 4.18879...\n",
                "print(V_sphere_MC(3, 10000))"
            ]
        },
        {
            "attachments": {},
            "cell_type": "markdown",
            "metadata": {},
            "source": [
                "The standard error formula still works for hit-or-miss Monte Carlo!  Since the Heaviside function is equal to its own square, we just have\n",
                "\n",
                "$$\n",
                "\\sigma_{d, \\rm sem} = \\sqrt{\\frac{2^d I - I^2}{N}}\n",
                "$$\n",
                "\n",
                "\n",
                "If we try this with $d=2$, how does hit-or-miss compare to the standard error we got in part B?"
            ]
        },
        {
            "cell_type": "code",
            "execution_count": 8,
            "metadata": {},
            "outputs": [],
            "source": [
                "def V_sphere_witherr(d, N):\n",
                "    Vd = V_sphere_MC(d,N)\n",
                "    sigma_SEM = np.sqrt((2**d * Vd - Vd*Vd) / N)\n",
                "    \n",
                "    return (Vd, sigma_SEM)\n",
                "    "
            ]
        },
        {
            "cell_type": "code",
            "execution_count": 9,
            "metadata": {},
            "outputs": [
                {
                    "data": {
                        "text/plain": "(3.08, 0.05323156958046607)"
                    },
                    "execution_count": 9,
                    "metadata": {},
                    "output_type": "execute_result"
                }
            ],
            "source": [
                "# Testing in d=2 again; should (on most trials) be within 1 sigma_SEM of pi.\n",
                "# Error is a bit larger for the same number of points, since we're sampling one extra dimension!\n",
                "V_sphere_witherr(2,1000)"
            ]
        },
        {
            "attachments": {},
            "cell_type": "markdown",
            "metadata": {},
            "source": [
                "### Part C\n",
                "\n",
                "Now that we have a general code working, let's start to turn up the number of dimensions and see how the _curse of dimensionality_ sets in. \n",
                ""
            ]
        },
        {
            "cell_type": "code",
            "execution_count": 10,
            "metadata": {},
            "outputs": [],
            "source": [
                "d = 10"
            ]
        },
        {
            "cell_type": "code",
            "execution_count": 11,
            "metadata": {},
            "outputs": [
                {
                    "name": "stdout",
                    "output_type": "stream",
                    "text": "Exact volume: V_10 = 2.55016\n100 samples: V_10 = 0 +/- 0\n1000 samples: V_10 = 1.024 +/- 1.02349\n10000 samples: V_10 = 3.2768 +/- 0.578334\n100000 samples: V_10 = 2.51904 +/- 0.16041\n1000000 samples: V_10 = 2.46682 +/- 0.0501989\n"
                }
            ],
            "source": [
                "def exact_vol(d):\n",
                "    return np.pi**(d/2) / gamma(d/2 + 1)\n",
                "\n",
                "print(\"Exact volume: V_{0:d} = {1:g}\".format(d, exact_vol(d)))\n",
                "print(\"100 samples: V_{0:d} = {1:g} +/- {2:g}\".format(d, *V_sphere_witherr(d, 100)))\n",
                "print(\"1000 samples: V_{0:d} = {1:g} +/- {2:g}\".format(d, *V_sphere_witherr(d, 1000)))\n",
                "print(\"10000 samples: V_{0:d} = {1:g} +/- {2:g}\".format(d, *V_sphere_witherr(d, 10000)))\n",
                "print(\"100000 samples: V_{0:d} = {1:g} +/- {2:g}\".format(d, *V_sphere_witherr(d, 100000)))\n",
                "print(\"1000000 samples: V_{0:d} = {1:g} +/- {2:g}\".format(d, *V_sphere_witherr(d, 1000000)))"
            ]
        },
        {
            "attachments": {},
            "cell_type": "markdown",
            "metadata": {},
            "source": [
                "__The qualitative change we should have noticed around `d=10` or so is due to a simple quirk of higher-dimensional geometry.  We're sampling from a hypercube enclosing the unit sphere, which has volume__\n",
                "\n",
                "$$\n",
                "V_{d,\\rm{cube}} = 2^d\n",
                "$$\n",
                "\n",
                "__We know from 2 and 3 dimensions that the unit sphere fits _inside_ this cube, of course (that's why we can use the cube as a sampling region) - only the corners of the cube are outside the sphere.  But how much space is that?  The ratio of sphere to cube volume is, in even $d$ for simplicity,__\n",
                "\n",
                "$$\n",
                "\\frac{V_{2k,\\rm{sphere}}}{V_{2k,\\rm{cube}}} = \\frac{\\pi^k}{4^k k!}\n",
                "$$\n",
                "\n",
                "__This is dropping to zero really, really fast - for $k=5$ ($d=10$) the sphere only takes up 0.2% of the cube, and for $d=20$ the cube's volume is about $10^8$ times larger!  (The difference is still just due to the corners of the cube, but a hypercube has a _lot_ of corners.)__"
            ]
        },
        {
            "attachments": {},
            "cell_type": "markdown",
            "metadata": {},
            "source": [
                "### Part D\n",
                "\n",
                "Monte Carlo integration is most often used for high-dimensional integrals.  But another convenient application can be to integrals that are just really messy to set up due to their geometry.  For example, suppose we want to calculate the mass of a steel sphere that has a cylindrical hole of radius $r$ bored through the center:\n",
                "\n",
                "![MC](MC.png)\n",
                "\n",
                "Assuming a constant density, we just need to know the volume to find the mass.  We can write the equation defining the sphere as:\n",
                "\n",
                "$$\n",
                "\\begin{cases}\n",
                "\\sqrt{x^2 + y^2 + z^2} \u0026\\leq 1, \\\\\n",
                "\\sqrt{x^2 + y^2} \u0026\\geq 0.3.\n",
                "\\end{cases}\n",
                "$$\n",
                "\n",
                "This would be annoying to set up by hand, since we have a mixture of spherical and cylindrical symmetry.  But finding the volume using hit-or-miss Monte Carlo is easy - we just generate random points in the cube $-1 \\leq x,y,z \\leq 1$, and then see if they're in the sphere (and not in the cylindrical hole).\n",
                "\n",
                "We modify our hit-and-miss volume Monte Carlo above to find the volume of this shape in three dimensions."
            ]
        },
        {
            "cell_type": "code",
            "execution_count": 12,
            "metadata": {},
            "outputs": [],
            "source": [
                "def V_sphere_with_hole_MC(N):\n",
                "    ### BEGIN SOLUTION\n",
                "    # Draw random numbers in the cube -1 \u003c= x,y,z \u003c= 1\n",
                "    x = 2 * np.random.rand(N, 3) - 1\n",
                "    \n",
                "    \n",
                "    sphere_mask = np.sum(x**2, axis=1) \u003c= 1\n",
                "    cyl_mask = np.sum(x[:,0:2]**2, axis=1) \u003e= 0.3**2\n",
                "        \n",
                "    # Count how many points are True for _both_ masks\n",
                "    N_inside = np.count_nonzero(np.logical_and(sphere_mask, cyl_mask))\n",
                "    \n",
                "    return 2**3 * N_inside / N\n",
                "   \n",
                ""
            ]
        },
        {
            "attachments": {},
            "cell_type": "markdown",
            "metadata": {},
            "source": [
                "Now run the Monte Carlo and find the volume.  In this case, we have a theoretical estimate for the result:\n",
                "\n",
                "$$\n",
                "V = V_{\\rm sphere} - V_{\\rm cyl} \\\\\n",
                "= \\frac{4}{3} \\pi R^3 - \\pi r^2 h \\\\\n",
                "= \\frac{4}{3} \\pi - \\pi (0.3)^2 (2) \\\\\n",
                "\\approx 3.62.\n",
                "$$\n",
                "\n",
                "This isn't _quite_ right, because there are a handful of points that are in the cylinder but not in the sphere which are being oversubtracted; we might try using our Monte Carlo simulation to see how much volume that region (in the cylinder, out of the sphere) really is.  But it should be pretty close.\n",
                "\n",
                "For volume this exercise is sort of trivial, but if the object wasn't constant density, or if we wanted some more complicated property like the moments of inertia, then Monte Carlo would be a nice way to do the integral!  "
            ]
        },
        {
            "cell_type": "code",
            "execution_count": 62,
            "metadata": {},
            "outputs": [
                {
                    "data": {
                        "text/plain": [
                            "3.62704"
                        ]
                    },
                    "execution_count": 62,
                    "metadata": {},
                    "output_type": "execute_result"
                }
            ],
            "source": [
                "V_sphere_with_hole_MC(100000)"
            ]
        },
        {
            "attachments": {},
            "cell_type": "markdown",
            "metadata": {},
            "source": [
                "### Part E\n",
                "\n",
                "Monte Carlo integration is used as a fast way to numerically estimate integrals which cannot be done analytically, and the VEGAS algorithm approximates the exact distribution by making a number of passes over the integration region while histogramming the function f. Vegas locates the portions of the integrand that contribute most to the integral, and then it preferentially samples those areas.\n",
                "\n",
                "__We will first integrate MC with Vegasflow by using the CFFI library:__"
            ]
        },
        {
            "cell_type": "code",
            "execution_count": 13,
            "metadata": {},
            "outputs": [
                {
                    "name": "stdout",
                    "output_type": "stream",
                    "text": "VEGAS MC, ncalls=100000:\n"
                },
                {
                    "ename": "NameError",
                    "evalue": "name 'VegasFlow' is not defined",
                    "output_type": "error",
                    "traceback": [
                        "\u001b[0;31m---------------------------------------------------------------------------\u001b[0m",
                        "\u001b[0;31mNameError\u001b[0m                                 Traceback (most recent call last)",
                        "\u001b[0;32m\u003cipython-input-1-9bb6c23a81f5\u003e\u001b[0m in \u001b[0;36m\u003cmodule\u003e\u001b[0;34m\u001b[0m\n\u001b[1;32m     26\u001b[0m     \u001b[0mprint\u001b[0m\u001b[0;34m(\u001b[0m\u001b[0;34mf\"VEGAS MC, ncalls={ncalls}:\"\u001b[0m\u001b[0;34m)\u001b[0m\u001b[0;34m\u001b[0m\u001b[0;34m\u001b[0m\u001b[0m\n\u001b[1;32m     27\u001b[0m     \u001b[0mstart\u001b[0m \u001b[0;34m=\u001b[0m \u001b[0mtime\u001b[0m\u001b[0;34m.\u001b[0m\u001b[0mtime\u001b[0m\u001b[0;34m(\u001b[0m\u001b[0;34m)\u001b[0m\u001b[0;34m\u001b[0m\u001b[0;34m\u001b[0m\u001b[0m\n\u001b[0;32m---\u003e 28\u001b[0;31m     \u001b[0mvegas_instance\u001b[0m \u001b[0;34m=\u001b[0m \u001b[0mVegasFlow\u001b[0m\u001b[0;34m(\u001b[0m\u001b[0mdim\u001b[0m\u001b[0;34m,\u001b[0m \u001b[0mncalls\u001b[0m\u001b[0;34m,\u001b[0m \u001b[0msimplify_signature\u001b[0m\u001b[0;34m=\u001b[0m\u001b[0;32mTrue\u001b[0m\u001b[0;34m)\u001b[0m\u001b[0;34m\u001b[0m\u001b[0;34m\u001b[0m\u001b[0m\n\u001b[0m\u001b[1;32m     29\u001b[0m     \u001b[0mvegas_instance\u001b[0m\u001b[0;34m.\u001b[0m\u001b[0mcompile\u001b[0m\u001b[0;34m(\u001b[0m\u001b[0msymgauss\u001b[0m\u001b[0;34m)\u001b[0m\u001b[0;34m\u001b[0m\u001b[0;34m\u001b[0m\u001b[0m\n\u001b[1;32m     30\u001b[0m     \u001b[0mresult\u001b[0m \u001b[0;34m=\u001b[0m \u001b[0mvegas_instance\u001b[0m\u001b[0;34m.\u001b[0m\u001b[0mrun_integration\u001b[0m\u001b[0;34m(\u001b[0m\u001b[0mn_iter\u001b[0m\u001b[0;34m)\u001b[0m\u001b[0;34m\u001b[0m\u001b[0;34m\u001b[0m\u001b[0m\n",
                        "\u001b[0;31mNameError\u001b[0m: name 'VegasFlow' is not defined"
                    ]
                }
            ],
            "source": [
                "import time\n",
                "import numpy as np\n",
                "from vegasflow.configflow import DTYPE\n",
                "from vegasflow.vflow import VegasFlow\n",
                "import tensorflow as tf\n",
                "\n",
                "from cffi import FFI\n",
                "ffibuilder = FFI()\n",
                "\n",
                "\n",
                "# MC integration setup\n",
                "dim = 4\n",
                "ncalls = np.int32(1e5)\n",
                "n_iter = 5\n",
                "\n",
                "if DTYPE is tf.float64:\n",
                "    C_type = \"double\"\n",
                "elif DTYPE is tf.float32:\n",
                "    C_type = \"float\"\n",
                "else:\n",
                "    raise TypeError(f\"Datatype {DTYPE} not understood\")\n",
                "\n",
                "\n",
                "ffibuilder.cdef(f\"\"\"\n",
                "    void symgauss({C_type}*, int, int, {C_type}*);\n",
                "\"\"\")\n",
                "\n",
                "ffibuilder.set_source(\"_symgauss_cffi\", f\"\"\"\n",
                "    void symgauss({C_type} *x, int n, int evts, {C_type}* out)\n",
                "    {{\n",
                "        for (int e = 0; e \u003c evts; e++)\n",
                "        {{\n",
                "            {C_type} a = 0.1;\n",
                "            {C_type} pref = pow(1.0/a/sqrt(M_PI), n);\n",
                "            {C_type} coef = 0.0;\n",
                "            for (int i = 1; i \u003c= 100*n; i++) {{\n",
                "                coef += ({C_type}) i;\n",
                "            }}\n",
                "            for (int i = 0; i \u003c n; i++) {{\n",
                "                coef += pow((x[i+e*n] - 1.0/2.0)/a, 2);\n",
                "            }}\n",
                "            coef -= 100.0*n*(100.0*n+1.0)/2.0;\n",
                "            out[e] = pref*exp(-coef);\n",
                "        }}\n",
                "    }}\n",
                "\"\"\")\n",
                "ffibuilder.compile(verbose=True)\n",
                "\n",
                "from _symgauss_cffi import ffi, lib\n",
                "\n",
                "def symgauss(xarr, n_dim=None, **kwargs):\n",
                "    if n_dim is None:\n",
                "        n_dim = xarr.shape[-1]\n",
                "    n_events = xarr.shape[0]\n",
                "\n",
                "    res = np.empty(n_events, dtype = DTYPE.as_numpy_dtype)\n",
                "    x_flat = xarr.numpy().flatten()\n",
                "\n",
                "    pinput = ffi.cast(f'{C_type}*', ffi.from_buffer(x_flat))\n",
                "    pres = ffi.cast(f'{C_type}*', ffi.from_buffer(res))\n",
                "    lib.symgauss(pinput, n_dim, n_events, pres)\n",
                "    return res\n",
                "\n",
                "if __name__ == \"__main__\":\n",
                "    \"\"\"Testing a basic integration\"\"\"\n",
                "\n",
                "    print(f\"VEGAS MC, ncalls={ncalls}:\")\n",
                "    start = time.time()\n",
                "    vegas_instance = VegasFlow(dim, ncalls)\n",
                "    vegas_instance.compile(symgauss, compilable = False)\n",
                "    r = vegas_instance.run_integration(n_iter)\n",
                "    end = time.time()\n",
                "    print(f\"time (s): {end-start}\")\n",
                ""
            ]
        },
        {
            "attachments": {},
            "cell_type": "markdown",
            "metadata": {},
            "source": [
                "Output: ![Output](cffi.png)\n",
                "\n",
                "\n",
                "__We can then see the other example using the vegas wrapper helper.__"
            ]
        },
        {
            "cell_type": "code",
            "execution_count": 0,
            "metadata": {},
            "outputs": [],
            "source": [
                "from vegasflow.configflow import DTYPE\n",
                "import time\n",
                "import numpy as np\n",
                "import tensorflow as tf\n",
                "from vegasflow.vflow import vegas_wrapper\n",
                "from vegasflow.plain import plain_wrapper \n",
                "\n",
                "\n",
                "# MC integration setup\n",
                "dim = 4\n",
                "ncalls = np.int32(1e5)\n",
                "n_iter = 5\n",
                "\n",
                "\n",
                "@tf.function\n",
                "def symgauss(xarr, n_dim=None, **kwargs):\n",
                "    \"\"\"symgauss test function\"\"\"\n",
                "    if n_dim is None:\n",
                "        n_dim = xarr.shape[-1]\n",
                "    a = tf.constant(0.1, dtype=DTYPE)\n",
                "    n100 = tf.cast(100 * n_dim, dtype=DTYPE)\n",
                "    pref = tf.pow(1.0 / a / np.sqrt(np.pi), n_dim)\n",
                "    coef = tf.reduce_sum(tf.range(n100 + 1))\n",
                "    coef += tf.reduce_sum(tf.square((xarr - 1.0 / 2.0) / a), axis=1)\n",
                "    coef -= (n100 + 1) * n100 / 2.0\n",
                "    return pref * tf.exp(-coef)\n",
                "\n",
                "\n",
                "if __name__ == \"__main__\":\n",
                "    \"\"\"Testing several different integrations\"\"\"\n",
                "    print(f\"VEGAS MC, ncalls={ncalls}:\")\n",
                "    start = time.time()\n",
                "    ncalls = 10*ncalls\n",
                "    r = vegas_wrapper(symgauss, dim, n_iter, ncalls)\n",
                "    end = time.time()\n",
                "    print(f\"Vegas took: time (s): {end-start}\")\n",
                "\n",
                ""
            ]
        },
        {
            "attachments": {},
            "cell_type": "markdown",
            "metadata": {},
            "source": [
                "Output: ![alt text](wrapper.png)"
            ]
        },
        {
            "attachments": {},
            "cell_type": "markdown",
            "metadata": {},
            "source": [
                "# Question:\n",
                "What is the accuracy of the Vegas algorithm when finding the peaks of the integrand?"
            ]
        },
        {
            "attachments": {},
            "cell_type": "markdown",
            "metadata": {},
            "source": [
                "# Group Project Idea:\n",
                "I think solving the time-independent Schrodinger equation for ground state solution would be fun or solving V(x) for an infinite square well. "
            ]
        },
        {
            "attachments": {},
            "cell_type": "markdown",
            "metadata": {},
            "source": [
                "## Citations\n",
                "   \n",
                "\n",
                "@misc{juacrumar_carrazza_stefano_cruz-martinez_2020, title={N3PDF/vegasflow: VegasFlow 1.2.0}, url={https://doi.org/10.5281/zenodo.3691926}, journal={Zenodo}, author={Juacrumar and Carrazza and Stefano and Cruz-Martinez}, year={2020}, month={Sep}} \n",
                "\n",
                " @misc{carrazza_cruz-martinez_2020, title={VegasFlow: accelerating Monte Carlo simulation across multiple hardware platforms}, url={https://arxiv.org/abs/2002.12921}, journal={arXiv.org}, author={Carrazza, Stefano and Cruz-Martinez, Juan M.}, year={2020}, month={May}} "
            ]
        },
        {
            "cell_type": "code",
            "execution_count": 0,
            "metadata": {},
            "outputs": [],
            "source": [
                ""
            ]
        }
    ]
}
